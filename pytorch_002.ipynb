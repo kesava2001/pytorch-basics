{
  "nbformat": 4,
  "nbformat_minor": 0,
  "metadata": {
    "colab": {
      "name": "pytorch_002.ipynb",
      "provenance": [],
      "collapsed_sections": []
    },
    "kernelspec": {
      "name": "python3",
      "display_name": "Python 3"
    },
    "language_info": {
      "name": "python"
    }
  },
  "cells": [
    {
      "cell_type": "code",
      "metadata": {
        "id": "am_jvlyg4M-3"
      },
      "source": [
        "import torch\n",
        "from torch.autograd import Variable"
      ],
      "execution_count": 2,
      "outputs": []
    },
    {
      "cell_type": "code",
      "metadata": {
        "colab": {
          "base_uri": "https://localhost:8080/"
        },
        "id": "QrypRpDNmIav",
        "outputId": "5b8e5e9a-7a8d-4304-ef66-d05492315ecb"
      },
      "source": [
        "x = torch.randn(4, requires_grad=True)\n",
        "\n",
        "y = x + 10\n",
        "z = y*y+2\n",
        "\n",
        "z = z.mean()\n",
        "\n",
        "z.backward() # dz/dx\n",
        "print(x.grad)\n",
        "print(z)"
      ],
      "execution_count": 2,
      "outputs": [
        {
          "output_type": "stream",
          "text": [
            "tensor([4.8736, 4.9543, 5.7929, 4.2864])\n",
            "tensor(102.2277, grad_fn=<MeanBackward0>)\n"
          ],
          "name": "stdout"
        }
      ]
    },
    {
      "cell_type": "code",
      "metadata": {
        "colab": {
          "base_uri": "https://localhost:8080/"
        },
        "id": "vAF51j_24Rzm",
        "outputId": "23a60f65-2c4f-4932-bad0-1a2b61352967"
      },
      "source": [
        "# this is how gradient computation is done using autograd  \n",
        "w = Variable(torch.tensor([2.0]), requires_grad=True)\n",
        "x = [10 ,17, 29]\n",
        "y = [21, 32, 43]\n",
        "\n",
        "L = 0.01\n",
        "\n",
        "def forward(x):\n",
        "  return x*w\n",
        "\n",
        "def loss(x, y):\n",
        "  y_pred=forward(x)\n",
        "  return (y_pred-y)*(y_pred-y)\n",
        "\n",
        "for epoch in range(10):\n",
        "  for x_val, y_val in zip(x, y):\n",
        "    l = loss(x_val, y_val)\n",
        "    l.backward() # after calling backward, dl/dw is calculated and stored in w.grad\n",
        "\n",
        "    w.data = w.data - L*w.grad.data # weight updation formula w' = w - L*(dl/dw)\n",
        "\n",
        "    w.grad.data.zero_()#manually reset gradients to zero after updating\n",
        "  print(' progress: ', epoch, l.data[0])"
      ],
      "execution_count": 3,
      "outputs": [
        {
          "output_type": "stream",
          "text": [
            " progress:  0 tensor(1052.6139)\n",
            " progress:  1 tensor(5519017.)\n",
            " progress:  2 tensor(3.1597e+10)\n",
            " progress:  3 tensor(1.8068e+14)\n",
            " progress:  4 tensor(1.0332e+18)\n",
            " progress:  5 tensor(5.9080e+21)\n",
            " progress:  6 tensor(3.3784e+25)\n",
            " progress:  7 tensor(1.9319e+29)\n",
            " progress:  8 tensor(1.1047e+33)\n",
            " progress:  9 tensor(6.3170e+36)\n"
          ],
          "name": "stdout"
        }
      ]
    },
    {
      "cell_type": "code",
      "metadata": {
        "colab": {
          "base_uri": "https://localhost:8080/"
        },
        "id": "jx30CJAzi-uE",
        "outputId": "70bede7b-80b5-4f18-d694-d483ef3667ed"
      },
      "source": [
        "t_x = torch.randint(17, 42, (10,))\n",
        "t_y = torch.randint(8, 43, (10,))\n",
        "\n",
        "t_y, t_x"
      ],
      "execution_count": 4,
      "outputs": [
        {
          "output_type": "execute_result",
          "data": {
            "text/plain": [
              "(tensor([10, 21, 17, 35, 37, 26, 24, 14, 27, 21]),\n",
              " tensor([27, 22, 34, 28, 31, 24, 23, 27, 20, 25]))"
            ]
          },
          "metadata": {
            "tags": []
          },
          "execution_count": 4
        }
      ]
    },
    {
      "cell_type": "code",
      "metadata": {
        "id": "-8yDUigIuS9z"
      },
      "source": [
        "def model(t_x, w, b):\n",
        "  return t_x*w + b\n",
        "\n",
        "def loss_fn(y_p, y):\n",
        "  diff = (y_p-y)*(y_p-y)\n",
        "  return diff.mean()"
      ],
      "execution_count": 5,
      "outputs": []
    },
    {
      "cell_type": "code",
      "metadata": {
        "colab": {
          "base_uri": "https://localhost:8080/"
        },
        "id": "8CA3UpkNv7JE",
        "outputId": "29759cb3-44e6-41a9-afea-b420aa013dae"
      },
      "source": [
        "w = torch.ones(1, requires_grad=True)\n",
        "b = torch.ones(1, requires_grad=True)\n",
        "y_p = model(t_x, w, b)\n",
        "\n",
        "y_p"
      ],
      "execution_count": 6,
      "outputs": [
        {
          "output_type": "execute_result",
          "data": {
            "text/plain": [
              "tensor([28., 23., 35., 29., 32., 25., 24., 28., 21., 26.],\n",
              "       grad_fn=<AddBackward0>)"
            ]
          },
          "metadata": {
            "tags": []
          },
          "execution_count": 6
        }
      ]
    },
    {
      "cell_type": "code",
      "metadata": {
        "colab": {
          "base_uri": "https://localhost:8080/"
        },
        "id": "A-RiarobwOUj",
        "outputId": "f2606017-2cd0-4f75-b6f3-ef61992c57ea"
      },
      "source": [
        "loss = loss_fn(y_p, t_y)\n",
        "loss"
      ],
      "execution_count": 7,
      "outputs": [
        {
          "output_type": "execute_result",
          "data": {
            "text/plain": [
              "tensor(97.1000, grad_fn=<MeanBackward0>)"
            ]
          },
          "metadata": {
            "tags": []
          },
          "execution_count": 7
        }
      ]
    },
    {
      "cell_type": "code",
      "metadata": {
        "colab": {
          "base_uri": "https://localhost:8080/"
        },
        "id": "1sdyr_6-yL0M",
        "outputId": "20f46ab1-adf2-43b8-f617-1fcc891e06af"
      },
      "source": [
        "loss.backward()\n",
        "w.grad, b.grad\n",
        "# similarly, we can use a loop to train and update the weights"
      ],
      "execution_count": 8,
      "outputs": [
        {
          "output_type": "execute_result",
          "data": {
            "text/plain": [
              "(tensor([235.6000]), tensor([7.8000]))"
            ]
          },
          "metadata": {
            "tags": []
          },
          "execution_count": 8
        }
      ]
    },
    {
      "cell_type": "code",
      "metadata": {
        "id": "PCyPWsGJUYiZ"
      },
      "source": [
        "# MSEloss function of torch module\n",
        "from torch.nn import MSELoss\n",
        "\n",
        "loss = MSELoss()\n",
        "input = torch.randn(10, 5, requires_grad=True)\n",
        "targets = torch.randn(10, 5)\n",
        "output = loss(input, targets)\n",
        "output.backward()"
      ],
      "execution_count": 9,
      "outputs": []
    },
    {
      "cell_type": "code",
      "metadata": {
        "colab": {
          "base_uri": "https://localhost:8080/"
        },
        "id": "u0qGzkr3VoxP",
        "outputId": "08a2c486-cbec-4fe4-a3de-4a75cf3b13ae"
      },
      "source": [
        "output"
      ],
      "execution_count": 13,
      "outputs": [
        {
          "output_type": "execute_result",
          "data": {
            "text/plain": [
              "tensor(1.9959, grad_fn=<MseLossBackward>)"
            ]
          },
          "metadata": {
            "tags": []
          },
          "execution_count": 13
        }
      ]
    },
    {
      "cell_type": "code",
      "metadata": {
        "colab": {
          "base_uri": "https://localhost:8080/"
        },
        "id": "GUDsqupwVR00",
        "outputId": "c5300b34-de45-4673-f72b-067ca44ab5e8"
      },
      "source": [
        "output.grad_fn"
      ],
      "execution_count": 12,
      "outputs": [
        {
          "output_type": "execute_result",
          "data": {
            "text/plain": [
              "<MseLossBackward at 0x7f273e173810>"
            ]
          },
          "metadata": {
            "tags": []
          },
          "execution_count": 12
        }
      ]
    },
    {
      "cell_type": "code",
      "metadata": {
        "id": "wD7WuY04Xy6e"
      },
      "source": [
        "# in the above block grad_fn is the derivative of loss function with respective to the parameters of the model, now we will display how is grad_fn computed \n",
        "def dloss_fn(t_y, y_p):   # this function is for after derivative of first part of derivative of loss function wrt 'w' \n",
        "  d_diff = 2*(t_y-y_p)\n",
        "  return d_diff\n",
        "\n",
        "def model(t_x, w, b):\n",
        "  return t_x*w + b\n",
        "\n",
        "def dmodel_w(t_x, w, b):\n",
        "  return t_x\n",
        "\n",
        "def dmodel_b(t_x, w, b):\n",
        "  return 1.0\n",
        "\n",
        "def grad_fn(t_x, t_y, y_p, w, b):\n",
        "  dloss_dw = dloss_fn(t_y, y_p)*dmodel_w(t_x, w, b)\n",
        "  dloss_db = dloss_fn(t_y, y_p)*dmodel_b(t_x, w, b)\n",
        "\n",
        "  return torch.stack([dloss_dw.mean(), dloss_db.mean()])"
      ],
      "execution_count": 20,
      "outputs": []
    },
    {
      "cell_type": "code",
      "metadata": {
        "id": "EN2rFAUYbM4S"
      },
      "source": [
        "params = torch.tensor([1.0, 0.0])\n",
        "\n",
        "learning_rate = 1e-4\n",
        "\n",
        "n_epochs = 100\n",
        "\n",
        "for epoch in range(n_epochs):\n",
        "  w, b = params\n",
        "\n",
        "  y_pred = model(t_x, w, b)\n",
        "\n",
        "  loss = loss_fn(y_pred, t_y)\n",
        "\n",
        "  print('loss: ', loss)\n",
        "\n",
        "  grad = grad_fn(t_x, t_y, y_pred, w, b)\n",
        "\n",
        "  params = params - learning_rate*grad\n",
        "\n",
        "  print('params: ', params)\n",
        "params\n"
      ],
      "execution_count": null,
      "outputs": []
    },
    {
      "cell_type": "code",
      "metadata": {
        "colab": {
          "base_uri": "https://localhost:8080/"
        },
        "id": "GrxDLkh1d6Yz",
        "outputId": "446153ad-65b1-4828-e0d7-a40490b78a29"
      },
      "source": [
        "model(10, 0.76, 0.99)"
      ],
      "execution_count": 35,
      "outputs": [
        {
          "output_type": "execute_result",
          "data": {
            "text/plain": [
              "8.59"
            ]
          },
          "metadata": {
            "tags": []
          },
          "execution_count": 35
        }
      ]
    },
    {
      "cell_type": "code",
      "metadata": {
        "id": "tOqPWnFYk8bn"
      },
      "source": [
        "import numpy as np\n",
        "#linear regression\n",
        "# Input (temp, rainfall, humidity)\n",
        "inputs = np.array([[73, 67, 43], \n",
        "                   [91, 88, 64], \n",
        "                   [87, 134, 58], \n",
        "                   [102, 43, 37], \n",
        "                   [69, 96, 70]], dtype='float32')\n",
        "\n",
        "# Targets (apples, oranges)\n",
        "targets = np.array([[56, 70], \n",
        "                    [81, 101], \n",
        "                    [119, 133], \n",
        "                    [22, 37], \n",
        "                    [103, 119]], dtype='float32')\n",
        "\n",
        "inputs = torch.from_numpy(inputs)\n",
        "targets = torch.from_numpy(targets)"
      ],
      "execution_count": 3,
      "outputs": []
    },
    {
      "cell_type": "code",
      "metadata": {
        "id": "PqsQ20TirXKO"
      },
      "source": [
        "torch.manual_seed(12) # to get the same random values every time we run this cell\n",
        "weights = torch.randn(2,3, requires_grad=True)\n",
        "bias = torch.randn(2, requires_grad=True)"
      ],
      "execution_count": 39,
      "outputs": []
    },
    {
      "cell_type": "code",
      "metadata": {
        "id": "9ShewXSJs0lj"
      },
      "source": [
        "def model(x, w, b):\n",
        "  return x@w.t()+b  # @ represents matrix multiplication in pytorch"
      ],
      "execution_count": 40,
      "outputs": []
    },
    {
      "cell_type": "code",
      "metadata": {
        "id": "rrdDdoHMtUwB"
      },
      "source": [
        "def mse(x, y, w, b):\n",
        "  y_pred = model(x, w, b)\n",
        "  l = (y-y_pred)**2\n",
        "  return l.mean()  # mean squared error loss function"
      ],
      "execution_count": 41,
      "outputs": []
    },
    {
      "cell_type": "code",
      "metadata": {
        "id": "ZC1N3lzotq1g"
      },
      "source": [
        "loss = mse(inputs, targets, weights, bias)"
      ],
      "execution_count": 42,
      "outputs": []
    },
    {
      "cell_type": "code",
      "metadata": {
        "id": "dUoyV7e6zCrG"
      },
      "source": [
        "loss.backward()"
      ],
      "execution_count": 44,
      "outputs": []
    },
    {
      "cell_type": "code",
      "metadata": {
        "colab": {
          "base_uri": "https://localhost:8080/"
        },
        "id": "8RofWjS9w9Lk",
        "outputId": "2fc95632-207a-4b33-d952-6d8559d72358"
      },
      "source": [
        "print(weights)\n",
        "print(weights.grad)"
      ],
      "execution_count": 45,
      "outputs": [
        {
          "output_type": "stream",
          "text": [
            "tensor([[-0.2138, -1.3780, -0.0546],\n",
            "        [ 0.4515,  0.7858, -1.0884]], requires_grad=True)\n",
            "tensor([[-17883.0391, -20738.8398, -12449.6934],\n",
            "        [ -3700.6440,  -4621.4058,  -2911.5078]])\n"
          ],
          "name": "stdout"
        }
      ]
    },
    {
      "cell_type": "code",
      "metadata": {
        "id": "pFBqYeaet3yX"
      },
      "source": [
        "with torch.no_grad():\n",
        "  weights -= weights.grad*1e-5\n",
        "  bias -= bias.grad*1e-5\n",
        "  weights.grad.zero_()\n",
        "  bias.grad.zero_()"
      ],
      "execution_count": 47,
      "outputs": []
    },
    {
      "cell_type": "code",
      "metadata": {
        "colab": {
          "base_uri": "https://localhost:8080/"
        },
        "id": "HvQy4qzL0VNG",
        "outputId": "5a453d7d-cdf1-464d-b908-d89a6ea43be5"
      },
      "source": [
        "print(weights)"
      ],
      "execution_count": 48,
      "outputs": [
        {
          "output_type": "stream",
          "text": [
            "tensor([[-0.0350, -1.1706,  0.0699],\n",
            "        [ 0.4886,  0.8320, -1.0593]], requires_grad=True)\n"
          ],
          "name": "stdout"
        }
      ]
    },
    {
      "cell_type": "code",
      "metadata": {
        "colab": {
          "base_uri": "https://localhost:8080/"
        },
        "id": "6XGYUM930d1B",
        "outputId": "e3ae00f4-25f3-4449-b41a-2991f7704bfc"
      },
      "source": [
        "#calculating loss again\n",
        "predictions = model(inputs, weights, bias)\n",
        "loss = mse(inputs, targets, weights, bias)\n",
        "print(loss)\n",
        "# the loss value decreased, so we will repeat this process in a loop for a number of times to optimize our weights"
      ],
      "execution_count": 50,
      "outputs": [
        {
          "output_type": "stream",
          "text": [
            "tensor(19015.7852, grad_fn=<MeanBackward0>)\n"
          ],
          "name": "stdout"
        }
      ]
    },
    {
      "cell_type": "code",
      "metadata": {
        "id": "UH6Ehb7N1qCy"
      },
      "source": [
        "n_epochs = 1000\n",
        "for epoch in range(n_epochs):\n",
        "  predictions = model(inputs, weights, bias)\n",
        "  loss = mse(inputs, targets, weights, bias)\n",
        "  loss.backward()\n",
        "  with torch.no_grad():\n",
        "    weights -= weights.grad*1e-5\n",
        "    bias -= bias.grad*1e-5\n",
        "    weights.grad.zero_()\n",
        "    bias.grad.zero_()"
      ],
      "execution_count": 55,
      "outputs": []
    },
    {
      "cell_type": "code",
      "metadata": {
        "id": "OcACniHS2PXo"
      },
      "source": [
        "preds = model(inputs, weights, bias)"
      ],
      "execution_count": 56,
      "outputs": []
    },
    {
      "cell_type": "code",
      "metadata": {
        "colab": {
          "base_uri": "https://localhost:8080/"
        },
        "id": "7zAPEdmu2XiS",
        "outputId": "389033b2-51dc-4cd2-8643-b124a196d871"
      },
      "source": [
        "preds"
      ],
      "execution_count": 57,
      "outputs": [
        {
          "output_type": "execute_result",
          "data": {
            "text/plain": [
              "tensor([[ 57.0609,  70.7343],\n",
              "        [ 82.4694,  95.9387],\n",
              "        [118.2619, 143.0327],\n",
              "        [ 21.0487,  39.8850],\n",
              "        [102.2867, 109.0487]], grad_fn=<AddBackward0>)"
            ]
          },
          "metadata": {
            "tags": []
          },
          "execution_count": 57
        }
      ]
    },
    {
      "cell_type": "code",
      "metadata": {
        "colab": {
          "base_uri": "https://localhost:8080/"
        },
        "id": "h5PiaNcV2ZV_",
        "outputId": "687ea7ab-9e9e-4d98-882b-595b7a889ead"
      },
      "source": [
        "targets"
      ],
      "execution_count": 58,
      "outputs": [
        {
          "output_type": "execute_result",
          "data": {
            "text/plain": [
              "tensor([[ 56.,  70.],\n",
              "        [ 81., 101.],\n",
              "        [119., 133.],\n",
              "        [ 22.,  37.],\n",
              "        [103., 119.]])"
            ]
          },
          "metadata": {
            "tags": []
          },
          "execution_count": 58
        }
      ]
    },
    {
      "cell_type": "code",
      "metadata": {
        "id": "q5iHu06R2imK"
      },
      "source": [
        "#after training the model for over a 1000 epochs we are getting better results, these results are better given the size of dataset"
      ],
      "execution_count": null,
      "outputs": []
    },
    {
      "cell_type": "code",
      "metadata": {
        "id": "SabbJCTI2vGe"
      },
      "source": [
        "#we will solve a similar probelm using torch built-ins"
      ],
      "execution_count": null,
      "outputs": []
    },
    {
      "cell_type": "code",
      "metadata": {
        "id": "GojsSpPp3REt"
      },
      "source": [
        "import torch.nn as nn"
      ],
      "execution_count": 59,
      "outputs": []
    },
    {
      "cell_type": "code",
      "metadata": {
        "id": "zQ8R5mPt3XAn"
      },
      "source": [
        "# Input (temp, rainfall, humidity)\n",
        "inputs = np.array([[73, 67, 43], \n",
        "                   [91, 88, 64], \n",
        "                   [87, 134, 58], \n",
        "                   [102, 43, 37], \n",
        "                   [69, 96, 70], \n",
        "                   [74, 66, 43], \n",
        "                   [91, 87, 65], \n",
        "                   [88, 134, 59], \n",
        "                   [101, 44, 37], \n",
        "                   [68, 96, 71], \n",
        "                   [73, 66, 44], \n",
        "                   [92, 87, 64], \n",
        "                   [87, 135, 57], \n",
        "                   [103, 43, 36], \n",
        "                   [68, 97, 70]], \n",
        "                  dtype='float32')\n",
        "\n",
        "# Targets (apples, oranges)\n",
        "targets = np.array([[56, 70], \n",
        "                    [81, 101], \n",
        "                    [119, 133], \n",
        "                    [22, 37], \n",
        "                    [103, 119],\n",
        "                    [57, 69], \n",
        "                    [80, 102], \n",
        "                    [118, 132], \n",
        "                    [21, 38], \n",
        "                    [104, 118], \n",
        "                    [57, 69], \n",
        "                    [82, 100], \n",
        "                    [118, 134], \n",
        "                    [20, 38], \n",
        "                    [102, 120]], \n",
        "                   dtype='float32')\n",
        "\n",
        "inputs = torch.from_numpy(inputs)\n",
        "targets = torch.from_numpy(targets)"
      ],
      "execution_count": 60,
      "outputs": []
    },
    {
      "cell_type": "code",
      "metadata": {
        "colab": {
          "base_uri": "https://localhost:8080/"
        },
        "id": "etKSMAae3Y2b",
        "outputId": "2d2103c9-e57d-4850-b308-fe8e82b4d5ba"
      },
      "source": [
        "from torch.utils.data import TensorDataset\n",
        "\n",
        "train_data = TensorDataset(inputs, targets)\n",
        "\n",
        "train_data[4:7]"
      ],
      "execution_count": 62,
      "outputs": [
        {
          "output_type": "execute_result",
          "data": {
            "text/plain": [
              "(tensor([[69., 96., 70.],\n",
              "         [74., 66., 43.],\n",
              "         [91., 87., 65.]]), tensor([[103., 119.],\n",
              "         [ 57.,  69.],\n",
              "         [ 80., 102.]]))"
            ]
          },
          "metadata": {
            "tags": []
          },
          "execution_count": 62
        }
      ]
    },
    {
      "cell_type": "code",
      "metadata": {
        "colab": {
          "base_uri": "https://localhost:8080/"
        },
        "id": "47ZEkoV34jr0",
        "outputId": "6a11599f-a605-4c44-88f3-472f652ddfee"
      },
      "source": [
        "from torch.utils.data import DataLoader\n",
        "\n",
        "batch_size = 5\n",
        "train_dl = DataLoader(train_data, batch_size, shuffle=True)\n",
        "\n",
        "print(train_dl)"
      ],
      "execution_count": 64,
      "outputs": [
        {
          "output_type": "stream",
          "text": [
            "<torch.utils.data.dataloader.DataLoader object at 0x7ffb734e16d0>\n"
          ],
          "name": "stdout"
        }
      ]
    },
    {
      "cell_type": "code",
      "metadata": {
        "colab": {
          "base_uri": "https://localhost:8080/"
        },
        "id": "8UPr6_Wh5TWx",
        "outputId": "91986839-74f3-46b6-bc5c-787be47ef94b"
      },
      "source": [
        "for x, y in train_dl:\n",
        "  print(x)\n",
        "  print(y)\n",
        "  break"
      ],
      "execution_count": 67,
      "outputs": [
        {
          "output_type": "stream",
          "text": [
            "tensor([[ 73.,  67.,  43.],\n",
            "        [103.,  43.,  36.],\n",
            "        [ 87., 135.,  57.],\n",
            "        [102.,  43.,  37.],\n",
            "        [ 88., 134.,  59.]])\n",
            "tensor([[ 56.,  70.],\n",
            "        [ 20.,  38.],\n",
            "        [118., 134.],\n",
            "        [ 22.,  37.],\n",
            "        [118., 132.]])\n"
          ],
          "name": "stdout"
        }
      ]
    },
    {
      "cell_type": "code",
      "metadata": {
        "colab": {
          "base_uri": "https://localhost:8080/"
        },
        "id": "GNPJVeKU7NTg",
        "outputId": "70ce9579-5c2e-4710-cef2-e5cccc3677cb"
      },
      "source": [
        "#model\n",
        "model = nn.Linear(3, 2)\n",
        "list(model.parameters())"
      ],
      "execution_count": 72,
      "outputs": [
        {
          "output_type": "execute_result",
          "data": {
            "text/plain": [
              "[Parameter containing:\n",
              " tensor([[ 0.5208, -0.5472,  0.1047],\n",
              "         [-0.5581, -0.1801, -0.0708]], requires_grad=True),\n",
              " Parameter containing:\n",
              " tensor([ 0.0411, -0.2781], requires_grad=True)]"
            ]
          },
          "metadata": {
            "tags": []
          },
          "execution_count": 72
        }
      ]
    },
    {
      "cell_type": "code",
      "metadata": {
        "colab": {
          "base_uri": "https://localhost:8080/"
        },
        "id": "VkYnYu9G8S6X",
        "outputId": "dd559ade-979b-42fe-9dfd-ee177969afc9"
      },
      "source": [
        "predicted = model(inputs)\n",
        "\n",
        "predicted"
      ],
      "execution_count": 73,
      "outputs": [
        {
          "output_type": "execute_result",
          "data": {
            "text/plain": [
              "tensor([[  5.8953, -56.1380],\n",
              "        [  5.9758, -71.4552],\n",
              "        [-21.9057, -77.0836],\n",
              "        [ 33.5020, -67.5760],\n",
              "        [ -9.2306, -61.0421],\n",
              "        [  6.9633, -56.5160],\n",
              "        [  6.6277, -71.3459],\n",
              "        [-21.2803, -77.7126],\n",
              "        [ 32.4341, -67.1980],\n",
              "        [ -9.6467, -60.5548],\n",
              "        [  6.5471, -56.0287],\n",
              "        [  7.0438, -71.8332],\n",
              "        [-22.5576, -77.1929],\n",
              "        [ 33.9181, -68.0633],\n",
              "        [-10.2985, -60.6641]], grad_fn=<AddmmBackward>)"
            ]
          },
          "metadata": {
            "tags": []
          },
          "execution_count": 73
        }
      ]
    },
    {
      "cell_type": "code",
      "metadata": {
        "colab": {
          "base_uri": "https://localhost:8080/"
        },
        "id": "dgxSg2_m8dC3",
        "outputId": "f84dc339-ffad-482e-af37-9a34dc5772de"
      },
      "source": [
        "# loss calculation\n",
        "\n",
        "import torch.nn.functional as F\n",
        "\n",
        "loss_fn = F.mse_loss\n",
        "loss = loss_fn(predicted, targets)\n",
        "\n",
        "loss"
      ],
      "execution_count": 75,
      "outputs": [
        {
          "output_type": "execute_result",
          "data": {
            "text/plain": [
              "tensor(17376.6055, grad_fn=<MseLossBackward>)"
            ]
          },
          "metadata": {
            "tags": []
          },
          "execution_count": 75
        }
      ]
    },
    {
      "cell_type": "code",
      "metadata": {
        "id": "twjSuGMJ8_hT"
      },
      "source": [
        "#optimizer\n",
        "opt = torch.optim.SGD(model.parameters(), lr=1e-5) # here model params are passed as an argument because to specify which values to update"
      ],
      "execution_count": 76,
      "outputs": []
    },
    {
      "cell_type": "code",
      "metadata": {
        "id": "ZkvaQTKd_NVf"
      },
      "source": [
        "def fit(model, n_epochs, train_dl, loss_fn, opt):\n",
        "\n",
        "  for epoch in range(n_epochs):\n",
        "\n",
        "    for x, y in train_dl:\n",
        "      preds = model(x)\n",
        "\n",
        "      loss = loss_fn(preds, y)\n",
        "\n",
        "      loss.backward()\n",
        "\n",
        "      opt.step()\n",
        "\n",
        "      opt.zero_grad()\n",
        "    if (epoch+1)%10==0:\n",
        "      print(epoch+1, \" loss = \", loss.item())"
      ],
      "execution_count": 77,
      "outputs": []
    },
    {
      "cell_type": "code",
      "metadata": {
        "colab": {
          "base_uri": "https://localhost:8080/"
        },
        "id": "T23fEEJmAJwA",
        "outputId": "bd38cf78-d502-4735-f6d0-5d5d6f841320"
      },
      "source": [
        "fit(model, 300, train_dl, loss_fn, opt) #300 epochs"
      ],
      "execution_count": 84,
      "outputs": [
        {
          "output_type": "stream",
          "text": [
            "10  loss =  6.6666998863220215\n",
            "20  loss =  6.683084964752197\n",
            "30  loss =  4.599188804626465\n",
            "40  loss =  5.565306663513184\n",
            "50  loss =  4.115866661071777\n",
            "60  loss =  6.152379989624023\n",
            "70  loss =  3.1166186332702637\n",
            "80  loss =  3.8137192726135254\n",
            "90  loss =  4.441690921783447\n",
            "100  loss =  2.767148733139038\n"
          ],
          "name": "stdout"
        }
      ]
    },
    {
      "cell_type": "code",
      "metadata": {
        "colab": {
          "base_uri": "https://localhost:8080/"
        },
        "id": "G_z4MFtxARoP",
        "outputId": "ce0bfa4e-bfdc-4646-cf83-d52189e21f33"
      },
      "source": [
        "model(inputs)"
      ],
      "execution_count": 85,
      "outputs": [
        {
          "output_type": "execute_result",
          "data": {
            "text/plain": [
              "tensor([[ 57.0875,  70.5629],\n",
              "        [ 81.4351,  99.3694],\n",
              "        [119.4505, 135.5342],\n",
              "        [ 21.4134,  38.5853],\n",
              "        [100.4726, 115.9034],\n",
              "        [ 55.8336,  69.4612],\n",
              "        [ 81.1744,  99.2310],\n",
              "        [119.6823, 136.0122],\n",
              "        [ 22.6674,  39.6870],\n",
              "        [101.4659, 116.8666],\n",
              "        [ 56.8269,  70.4245],\n",
              "        [ 80.1811,  98.2677],\n",
              "        [119.7112, 135.6727],\n",
              "        [ 20.4201,  37.6220],\n",
              "        [101.7265, 117.0051]], grad_fn=<AddmmBackward>)"
            ]
          },
          "metadata": {
            "tags": []
          },
          "execution_count": 85
        }
      ]
    },
    {
      "cell_type": "code",
      "metadata": {
        "colab": {
          "base_uri": "https://localhost:8080/"
        },
        "id": "PvVhmTzSAVrp",
        "outputId": "1745815b-8e20-40b2-8d61-8484e94393e9"
      },
      "source": [
        "targets"
      ],
      "execution_count": 86,
      "outputs": [
        {
          "output_type": "execute_result",
          "data": {
            "text/plain": [
              "tensor([[ 56.,  70.],\n",
              "        [ 81., 101.],\n",
              "        [119., 133.],\n",
              "        [ 22.,  37.],\n",
              "        [103., 119.],\n",
              "        [ 57.,  69.],\n",
              "        [ 80., 102.],\n",
              "        [118., 132.],\n",
              "        [ 21.,  38.],\n",
              "        [104., 118.],\n",
              "        [ 57.,  69.],\n",
              "        [ 82., 100.],\n",
              "        [118., 134.],\n",
              "        [ 20.,  38.],\n",
              "        [102., 120.]])"
            ]
          },
          "metadata": {
            "tags": []
          },
          "execution_count": 86
        }
      ]
    },
    {
      "cell_type": "code",
      "metadata": {
        "colab": {
          "base_uri": "https://localhost:8080/"
        },
        "id": "_tCgrOmMAoZ2",
        "outputId": "0fb19053-bae3-49f1-c09d-146fce1264af"
      },
      "source": [
        "model(torch.tensor([23, 54, 21.]))"
      ],
      "execution_count": 87,
      "outputs": [
        {
          "output_type": "execute_result",
          "data": {
            "text/plain": [
              "tensor([51.2971, 55.6723], grad_fn=<AddBackward0>)"
            ]
          },
          "metadata": {
            "tags": []
          },
          "execution_count": 87
        }
      ]
    }
  ]
}