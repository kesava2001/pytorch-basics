{
  "nbformat": 4,
  "nbformat_minor": 0,
  "metadata": {
    "colab": {
      "name": "pytorch_001.ipynb",
      "provenance": [],
      "collapsed_sections": [],
      "authorship_tag": "ABX9TyOqbVVP9E1XWnrq47IXgH9u",
      "include_colab_link": true
    },
    "kernelspec": {
      "name": "python3",
      "display_name": "Python 3"
    },
    "language_info": {
      "name": "python"
    }
  },
  "cells": [
    {
      "cell_type": "markdown",
      "metadata": {
        "id": "view-in-github",
        "colab_type": "text"
      },
      "source": [
        "<a href=\"https://colab.research.google.com/github/kesava2001/pytorch-basics/blob/main/pytorch_001.ipynb\" target=\"_parent\"><img src=\"https://colab.research.google.com/assets/colab-badge.svg\" alt=\"Open In Colab\"/></a>"
      ]
    },
    {
      "cell_type": "code",
      "metadata": {
        "id": "LqVYIMrgiXWD"
      },
      "source": [
        "import torch "
      ],
      "execution_count": 1,
      "outputs": []
    },
    {
      "cell_type": "code",
      "metadata": {
        "colab": {
          "base_uri": "https://localhost:8080/"
        },
        "id": "ugoSUYZWtOht",
        "outputId": "88a9c5fb-2e86-494d-9562-98ddef48929d"
      },
      "source": [
        "x = [1,2,3,4,5,6,7]\n",
        "\n",
        "torch.is_tensor(x) #this returns a false because, here x is not a tensor object"
      ],
      "execution_count": 2,
      "outputs": [
        {
          "output_type": "execute_result",
          "data": {
            "text/plain": [
              "False"
            ]
          },
          "metadata": {
            "tags": []
          },
          "execution_count": 2
        }
      ]
    },
    {
      "cell_type": "code",
      "metadata": {
        "colab": {
          "base_uri": "https://localhost:8080/"
        },
        "id": "N_2hNv8XtiT0",
        "outputId": "f5c7dedc-4ba4-4d27-bad8-87dd80812aec"
      },
      "source": [
        "y = torch.randn(3,3,3)\n",
        "\n",
        "torch.is_tensor(y)\n",
        "torch.numel(y) #this return the total number of elements in a tensor(3*3*3 here)"
      ],
      "execution_count": 3,
      "outputs": [
        {
          "output_type": "execute_result",
          "data": {
            "text/plain": [
              "27"
            ]
          },
          "metadata": {
            "tags": []
          },
          "execution_count": 3
        }
      ]
    },
    {
      "cell_type": "code",
      "metadata": {
        "colab": {
          "base_uri": "https://localhost:8080/"
        },
        "id": "XoMBkAtQuUXY",
        "outputId": "be83911a-f0fa-45b5-8f66-583cc7ad5e39"
      },
      "source": [
        "#creating a tensor of zeros/ones\n",
        "\n",
        "z = torch.ones(4,4)\n",
        "\n",
        "z"
      ],
      "execution_count": 4,
      "outputs": [
        {
          "output_type": "execute_result",
          "data": {
            "text/plain": [
              "tensor([[1., 1., 1., 1.],\n",
              "        [1., 1., 1., 1.],\n",
              "        [1., 1., 1., 1.],\n",
              "        [1., 1., 1., 1.]])"
            ]
          },
          "metadata": {
            "tags": []
          },
          "execution_count": 4
        }
      ]
    },
    {
      "cell_type": "code",
      "metadata": {
        "colab": {
          "base_uri": "https://localhost:8080/"
        },
        "id": "3PjzIzeuuzuU",
        "outputId": "74cc02d5-9752-409f-c32d-a375f8c68589"
      },
      "source": [
        "p = torch.eye(4,4)\n",
        "p #gives a tensor with diagonal elements ones and off diagonal zeros"
      ],
      "execution_count": 5,
      "outputs": [
        {
          "output_type": "execute_result",
          "data": {
            "text/plain": [
              "tensor([[1., 0., 0., 0.],\n",
              "        [0., 1., 0., 0.],\n",
              "        [0., 0., 1., 0.],\n",
              "        [0., 0., 0., 1.]])"
            ]
          },
          "metadata": {
            "tags": []
          },
          "execution_count": 5
        }
      ]
    },
    {
      "cell_type": "code",
      "metadata": {
        "colab": {
          "base_uri": "https://localhost:8080/"
        },
        "id": "3rgtY9yUvNBY",
        "outputId": "633464e9-ec72-4357-f6ff-4d7b53f04c79"
      },
      "source": [
        "import numpy\n",
        "x1 = numpy.array(x)\n",
        "x2 = torch.from_numpy(x1) #converts numpy array to a tensor\n",
        "x2"
      ],
      "execution_count": 6,
      "outputs": [
        {
          "output_type": "execute_result",
          "data": {
            "text/plain": [
              "tensor([1, 2, 3, 4, 5, 6, 7])"
            ]
          },
          "metadata": {
            "tags": []
          },
          "execution_count": 6
        }
      ]
    },
    {
      "cell_type": "code",
      "metadata": {
        "colab": {
          "base_uri": "https://localhost:8080/"
        },
        "id": "P34mQFjjKvpo",
        "outputId": "87b6c1bf-43df-429d-ca00-2f9f8da6a034"
      },
      "source": [
        "ls = torch.linspace(1, 10, steps=30) #divides 1 to 10 into 30 parts of equal magnitude\n",
        "ls"
      ],
      "execution_count": 7,
      "outputs": [
        {
          "output_type": "execute_result",
          "data": {
            "text/plain": [
              "tensor([ 1.0000,  1.3103,  1.6207,  1.9310,  2.2414,  2.5517,  2.8621,  3.1724,\n",
              "         3.4828,  3.7931,  4.1034,  4.4138,  4.7241,  5.0345,  5.3448,  5.6552,\n",
              "         5.9655,  6.2759,  6.5862,  6.8966,  7.2069,  7.5172,  7.8276,  8.1379,\n",
              "         8.4483,  8.7586,  9.0690,  9.3793,  9.6897, 10.0000])"
            ]
          },
          "metadata": {
            "tags": []
          },
          "execution_count": 7
        }
      ]
    },
    {
      "cell_type": "code",
      "metadata": {
        "colab": {
          "base_uri": "https://localhost:8080/"
        },
        "id": "od9XgQorLVG-",
        "outputId": "183d02fc-2e15-4731-91f8-c537e16d0ec0"
      },
      "source": [
        "#random numbers from a uniform distribution between 0 and 1\n",
        "torch.rand(5)\n",
        "#since these values are from uniform distribution they all have the same probability of occuring"
      ],
      "execution_count": 8,
      "outputs": [
        {
          "output_type": "execute_result",
          "data": {
            "text/plain": [
              "tensor([0.7508, 0.8486, 0.8147, 0.5531, 0.2624])"
            ]
          },
          "metadata": {
            "tags": []
          },
          "execution_count": 8
        }
      ]
    },
    {
      "cell_type": "code",
      "metadata": {
        "colab": {
          "base_uri": "https://localhost:8080/"
        },
        "id": "xbN5Op0wMDSa",
        "outputId": "f2e7ac7f-108e-4552-cc23-15eab829bccf"
      },
      "source": [
        "torch.rand(3,4) #2 dimensional tensor"
      ],
      "execution_count": 9,
      "outputs": [
        {
          "output_type": "execute_result",
          "data": {
            "text/plain": [
              "tensor([[0.4515, 0.1708, 0.4188, 0.1655],\n",
              "        [0.5500, 0.2700, 0.6693, 0.2161],\n",
              "        [0.7181, 0.9330, 0.2498, 0.5177]])"
            ]
          },
          "metadata": {
            "tags": []
          },
          "execution_count": 9
        }
      ]
    },
    {
      "cell_type": "code",
      "metadata": {
        "colab": {
          "base_uri": "https://localhost:8080/"
        },
        "id": "GLFVAdXIMY8i",
        "outputId": "766a4c4c-ea7f-42f6-9acc-a4de5f4a68f7"
      },
      "source": [
        "torch.randn(2,3) #random numbers from a normal distribution"
      ],
      "execution_count": 10,
      "outputs": [
        {
          "output_type": "execute_result",
          "data": {
            "text/plain": [
              "tensor([[ 0.2913,  0.2464,  0.6508],\n",
              "        [-0.4853,  1.1678,  2.2331]])"
            ]
          },
          "metadata": {
            "tags": []
          },
          "execution_count": 10
        }
      ]
    },
    {
      "cell_type": "code",
      "metadata": {
        "colab": {
          "base_uri": "https://localhost:8080/"
        },
        "id": "tPt2lhUoMg5H",
        "outputId": "5c7f78d0-d70d-41b5-cee9-1d475036ef7a"
      },
      "source": [
        "torch.randperm(7) #random integers are selected from the given range"
      ],
      "execution_count": 11,
      "outputs": [
        {
          "output_type": "execute_result",
          "data": {
            "text/plain": [
              "tensor([0, 1, 3, 6, 4, 5, 2])"
            ]
          },
          "metadata": {
            "tags": []
          },
          "execution_count": 11
        }
      ]
    },
    {
      "cell_type": "code",
      "metadata": {
        "colab": {
          "base_uri": "https://localhost:8080/"
        },
        "id": "SAecYSbONDgH",
        "outputId": "94d33a3b-17b9-4db2-a3e1-ef6b1de57429"
      },
      "source": [
        "torch.arange(2,30) #integers between 2-30, excluding the terminal value"
      ],
      "execution_count": 12,
      "outputs": [
        {
          "output_type": "execute_result",
          "data": {
            "text/plain": [
              "tensor([ 2,  3,  4,  5,  6,  7,  8,  9, 10, 11, 12, 13, 14, 15, 16, 17, 18, 19,\n",
              "        20, 21, 22, 23, 24, 25, 26, 27, 28, 29])"
            ]
          },
          "metadata": {
            "tags": []
          },
          "execution_count": 12
        }
      ]
    },
    {
      "cell_type": "code",
      "metadata": {
        "colab": {
          "base_uri": "https://localhost:8080/"
        },
        "id": "bNyXnXGcNPph",
        "outputId": "aa7ae6f7-5d0b-4fc7-888d-1841f876f8f4"
      },
      "source": [
        "torch.arange(2,30, 3) #step is 3"
      ],
      "execution_count": 13,
      "outputs": [
        {
          "output_type": "execute_result",
          "data": {
            "text/plain": [
              "tensor([ 2,  5,  8, 11, 14, 17, 20, 23, 26, 29])"
            ]
          },
          "metadata": {
            "tags": []
          },
          "execution_count": 13
        }
      ]
    },
    {
      "cell_type": "code",
      "metadata": {
        "colab": {
          "base_uri": "https://localhost:8080/"
        },
        "id": "2zr_uGx1NcIq",
        "outputId": "0395b7d9-679e-4efb-e100-61f3a6ee05ce"
      },
      "source": [
        "d = torch.randn(3, 4)\n",
        "d"
      ],
      "execution_count": 14,
      "outputs": [
        {
          "output_type": "execute_result",
          "data": {
            "text/plain": [
              "tensor([[-0.8169, -0.1133, -0.8154,  0.1988],\n",
              "        [-0.6616,  0.0494, -1.0150,  1.0718],\n",
              "        [-2.1762,  0.6597, -1.6798,  0.4693]])"
            ]
          },
          "metadata": {
            "tags": []
          },
          "execution_count": 14
        }
      ]
    },
    {
      "cell_type": "code",
      "metadata": {
        "colab": {
          "base_uri": "https://localhost:8080/"
        },
        "id": "bE-ncvpfN4wh",
        "outputId": "098e9a50-399d-4171-d056-ef641320e444"
      },
      "source": [
        "torch.argmin(d, dim=1) #returns index of minimum value of each row"
      ],
      "execution_count": 15,
      "outputs": [
        {
          "output_type": "execute_result",
          "data": {
            "text/plain": [
              "tensor([0, 2, 0])"
            ]
          },
          "metadata": {
            "tags": []
          },
          "execution_count": 15
        }
      ]
    },
    {
      "cell_type": "code",
      "metadata": {
        "colab": {
          "base_uri": "https://localhost:8080/"
        },
        "id": "i1cr0JfyOVQ1",
        "outputId": "6f29a584-e6a6-4a5c-c311-734c20539901"
      },
      "source": [
        "torch.argmax(d, dim=1) #returns index of maximum values in each row"
      ],
      "execution_count": 16,
      "outputs": [
        {
          "output_type": "execute_result",
          "data": {
            "text/plain": [
              "tensor([3, 3, 1])"
            ]
          },
          "metadata": {
            "tags": []
          },
          "execution_count": 16
        }
      ]
    },
    {
      "cell_type": "code",
      "metadata": {
        "colab": {
          "base_uri": "https://localhost:8080/"
        },
        "id": "fqyBnkwvOtDT",
        "outputId": "68465cab-baa3-4cfb-8b4c-40b6a1131b73"
      },
      "source": [
        "torch.cat((d, d), 0) #this the concatenation function by pytorch"
      ],
      "execution_count": 17,
      "outputs": [
        {
          "output_type": "execute_result",
          "data": {
            "text/plain": [
              "tensor([[-0.8169, -0.1133, -0.8154,  0.1988],\n",
              "        [-0.6616,  0.0494, -1.0150,  1.0718],\n",
              "        [-2.1762,  0.6597, -1.6798,  0.4693],\n",
              "        [-0.8169, -0.1133, -0.8154,  0.1988],\n",
              "        [-0.6616,  0.0494, -1.0150,  1.0718],\n",
              "        [-2.1762,  0.6597, -1.6798,  0.4693]])"
            ]
          },
          "metadata": {
            "tags": []
          },
          "execution_count": 17
        }
      ]
    },
    {
      "cell_type": "code",
      "metadata": {
        "colab": {
          "base_uri": "https://localhost:8080/"
        },
        "id": "LqJZaUvLQlWW",
        "outputId": "ec10267a-e25e-4210-aeb1-016a57f5248d"
      },
      "source": [
        "torch.cat((d, d), 1) #this concats over columns"
      ],
      "execution_count": 18,
      "outputs": [
        {
          "output_type": "execute_result",
          "data": {
            "text/plain": [
              "tensor([[-0.8169, -0.1133, -0.8154,  0.1988, -0.8169, -0.1133, -0.8154,  0.1988],\n",
              "        [-0.6616,  0.0494, -1.0150,  1.0718, -0.6616,  0.0494, -1.0150,  1.0718],\n",
              "        [-2.1762,  0.6597, -1.6798,  0.4693, -2.1762,  0.6597, -1.6798,  0.4693]])"
            ]
          },
          "metadata": {
            "tags": []
          },
          "execution_count": 18
        }
      ]
    },
    {
      "cell_type": "code",
      "metadata": {
        "colab": {
          "base_uri": "https://localhost:8080/"
        },
        "id": "5rXo-HqlQ3xU",
        "outputId": "00fb9de8-061b-4ca8-fb06-0e155d3d13d7"
      },
      "source": [
        "b = torch.randn(6,6)\n",
        "\n",
        "torch.chunk(b, 2, 0) # 0 chunks over rows"
      ],
      "execution_count": 19,
      "outputs": [
        {
          "output_type": "execute_result",
          "data": {
            "text/plain": [
              "(tensor([[ 0.8164, -0.6719,  0.8148,  2.2231, -0.4117, -1.4655],\n",
              "         [-1.5478, -0.3094, -0.3435, -2.0072,  0.7034, -0.2075],\n",
              "         [-0.0232,  0.1480,  0.0456, -0.1950, -0.5604, -0.0108]]),\n",
              " tensor([[-2.0555,  1.6997,  0.9429, -0.8149, -0.3245, -0.1569],\n",
              "         [-0.3705,  0.7918, -0.2983, -0.4461, -1.0502,  0.3812],\n",
              "         [ 1.9484, -0.9057,  0.6075, -0.0093,  1.2991,  0.6602]]))"
            ]
          },
          "metadata": {
            "tags": []
          },
          "execution_count": 19
        }
      ]
    },
    {
      "cell_type": "code",
      "metadata": {
        "colab": {
          "base_uri": "https://localhost:8080/"
        },
        "id": "kFiaUVc5Rul1",
        "outputId": "9a849f53-5921-4e43-ee94-f7c9de65871c"
      },
      "source": [
        "torch.chunk(b, 2, 1)\n",
        "torch.chunk(b, 3, 0)\n",
        "torch.chunk(b, 3, 1) # 1 chunks over columns"
      ],
      "execution_count": 20,
      "outputs": [
        {
          "output_type": "execute_result",
          "data": {
            "text/plain": [
              "(tensor([[ 0.8164, -0.6719],\n",
              "         [-1.5478, -0.3094],\n",
              "         [-0.0232,  0.1480],\n",
              "         [-2.0555,  1.6997],\n",
              "         [-0.3705,  0.7918],\n",
              "         [ 1.9484, -0.9057]]), tensor([[ 0.8148,  2.2231],\n",
              "         [-0.3435, -2.0072],\n",
              "         [ 0.0456, -0.1950],\n",
              "         [ 0.9429, -0.8149],\n",
              "         [-0.2983, -0.4461],\n",
              "         [ 0.6075, -0.0093]]), tensor([[-0.4117, -1.4655],\n",
              "         [ 0.7034, -0.2075],\n",
              "         [-0.5604, -0.0108],\n",
              "         [-0.3245, -0.1569],\n",
              "         [-1.0502,  0.3812],\n",
              "         [ 1.2991,  0.6602]]))"
            ]
          },
          "metadata": {
            "tags": []
          },
          "execution_count": 20
        }
      ]
    },
    {
      "cell_type": "code",
      "metadata": {
        "colab": {
          "base_uri": "https://localhost:8080/"
        },
        "id": "HEo7KdtCR5-6",
        "outputId": "80528b06-d08e-4de4-e314-f68692dc40b1"
      },
      "source": [
        "torch.chunk(b, 6, 1)"
      ],
      "execution_count": 21,
      "outputs": [
        {
          "output_type": "execute_result",
          "data": {
            "text/plain": [
              "(tensor([[ 0.8164],\n",
              "         [-1.5478],\n",
              "         [-0.0232],\n",
              "         [-2.0555],\n",
              "         [-0.3705],\n",
              "         [ 1.9484]]), tensor([[-0.6719],\n",
              "         [-0.3094],\n",
              "         [ 0.1480],\n",
              "         [ 1.6997],\n",
              "         [ 0.7918],\n",
              "         [-0.9057]]), tensor([[ 0.8148],\n",
              "         [-0.3435],\n",
              "         [ 0.0456],\n",
              "         [ 0.9429],\n",
              "         [-0.2983],\n",
              "         [ 0.6075]]), tensor([[ 2.2231],\n",
              "         [-2.0072],\n",
              "         [-0.1950],\n",
              "         [-0.8149],\n",
              "         [-0.4461],\n",
              "         [-0.0093]]), tensor([[-0.4117],\n",
              "         [ 0.7034],\n",
              "         [-0.5604],\n",
              "         [-0.3245],\n",
              "         [-1.0502],\n",
              "         [ 1.2991]]), tensor([[-1.4655],\n",
              "         [-0.2075],\n",
              "         [-0.0108],\n",
              "         [-0.1569],\n",
              "         [ 0.3812],\n",
              "         [ 0.6602]]))"
            ]
          },
          "metadata": {
            "tags": []
          },
          "execution_count": 21
        }
      ]
    },
    {
      "cell_type": "code",
      "metadata": {
        "colab": {
          "base_uri": "https://localhost:8080/"
        },
        "id": "WM6v0sKgWZM9",
        "outputId": "635733e7-df3b-4f3a-cb20-9834925f8bd3"
      },
      "source": [
        "torch.gather(torch.Tensor([[1,2], [3,4]]), 0, torch.LongTensor([[0,1], [1,0]])) \n",
        "#after trying a few time my brain got messed up thinking what in the world is this function doing"
      ],
      "execution_count": 22,
      "outputs": [
        {
          "output_type": "execute_result",
          "data": {
            "text/plain": [
              "tensor([[1., 4.],\n",
              "        [3., 2.]])"
            ]
          },
          "metadata": {
            "tags": []
          },
          "execution_count": 22
        }
      ]
    },
    {
      "cell_type": "code",
      "metadata": {
        "colab": {
          "base_uri": "https://localhost:8080/"
        },
        "id": "XPZR7nFEYVOH",
        "outputId": "1a1d96fe-d0fb-4735-e8b7-57fb253b08c9"
      },
      "source": [
        "c = torch.randn(4,4)\n",
        "\n",
        "h = torch.LongTensor([0, 2]) #indices we want to select\n",
        "\n",
        "torch.index_select(c, 1, h) # 0 for rows, 1 for columns"
      ],
      "execution_count": 23,
      "outputs": [
        {
          "output_type": "execute_result",
          "data": {
            "text/plain": [
              "tensor([[ 0.1903, -1.5156],\n",
              "        [-0.2855,  2.2588],\n",
              "        [ 0.2770, -0.8783],\n",
              "        [ 1.6374,  0.5795]])"
            ]
          },
          "metadata": {
            "tags": []
          },
          "execution_count": 23
        }
      ]
    },
    {
      "cell_type": "code",
      "metadata": {
        "colab": {
          "base_uri": "https://localhost:8080/"
        },
        "id": "51EoEhqEZ8k7",
        "outputId": "0f5277f5-8f6f-413c-fb48-ab371e4cdf80"
      },
      "source": [
        "torch.nonzero(torch.tensor([1,0,0,0,3,0,0,4,0,0])) #returns a tensor whose values are indices of nonzero elements"
      ],
      "execution_count": 24,
      "outputs": [
        {
          "output_type": "execute_result",
          "data": {
            "text/plain": [
              "tensor([[0],\n",
              "        [4],\n",
              "        [7]])"
            ]
          },
          "metadata": {
            "tags": []
          },
          "execution_count": 24
        }
      ]
    },
    {
      "cell_type": "code",
      "metadata": {
        "colab": {
          "base_uri": "https://localhost:8080/"
        },
        "id": "rVIIURwhbYbZ",
        "outputId": "3e600f7a-ded9-4cc8-da06-57bf1d96e1b6"
      },
      "source": [
        "torch.split(torch.tensor([1,7,9,4,12,45,90,43]), 3) #splits the tensor into specified number of chunks"
      ],
      "execution_count": 25,
      "outputs": [
        {
          "output_type": "execute_result",
          "data": {
            "text/plain": [
              "(tensor([1, 7, 9]), tensor([ 4, 12, 45]), tensor([90, 43]))"
            ]
          },
          "metadata": {
            "tags": []
          },
          "execution_count": 25
        }
      ]
    },
    {
      "cell_type": "code",
      "metadata": {
        "colab": {
          "base_uri": "https://localhost:8080/"
        },
        "id": "prBY7Z2cdpuY",
        "outputId": "d9491832-5fc4-4766-ad1c-472622933776"
      },
      "source": [
        "s = torch.randn(3, 4)\n",
        "\n",
        "print(s)\n",
        "\n",
        "print(s.t()) #gives transpose of original tensor\n",
        "\n",
        "print(s.transpose(1, 0))"
      ],
      "execution_count": 33,
      "outputs": [
        {
          "output_type": "stream",
          "text": [
            "tensor([[ 0.2209, -0.6249, -1.1739, -0.5135],\n",
            "        [ 0.4791,  0.4981, -0.9259, -0.5209],\n",
            "        [-1.2345, -0.2951,  0.2527, -0.7301]])\n",
            "tensor([[ 0.2209,  0.4791, -1.2345],\n",
            "        [-0.6249,  0.4981, -0.2951],\n",
            "        [-1.1739, -0.9259,  0.2527],\n",
            "        [-0.5135, -0.5209, -0.7301]])\n",
            "tensor([[ 0.2209,  0.4791, -1.2345],\n",
            "        [-0.6249,  0.4981, -0.2951],\n",
            "        [-1.1739, -0.9259,  0.2527],\n",
            "        [-0.5135, -0.5209, -0.7301]])\n"
          ],
          "name": "stdout"
        }
      ]
    },
    {
      "cell_type": "code",
      "metadata": {
        "colab": {
          "base_uri": "https://localhost:8080/"
        },
        "id": "2ILLoK6OL8l-",
        "outputId": "e88248e8-2759-491c-d669-a779bb050fed"
      },
      "source": [
        "torch.unbind(s, 1) \n",
        "#gives row tensors from the given input tensor, if 1 is given as argument gives column tensors from given input "
      ],
      "execution_count": 38,
      "outputs": [
        {
          "output_type": "execute_result",
          "data": {
            "text/plain": [
              "(tensor([ 0.2209,  0.4791, -1.2345]),\n",
              " tensor([-0.6249,  0.4981, -0.2951]),\n",
              " tensor([-1.1739, -0.9259,  0.2527]),\n",
              " tensor([-0.5135, -0.5209, -0.7301]))"
            ]
          },
          "metadata": {
            "tags": []
          },
          "execution_count": 38
        }
      ]
    },
    {
      "cell_type": "code",
      "metadata": {
        "colab": {
          "base_uri": "https://localhost:8080/"
        },
        "id": "cDCkJp5_NZhJ",
        "outputId": "19224d8d-949e-40d7-b6c2-cd486c9a9b8f"
      },
      "source": [
        "torch.add(s, 10) # adds the scalar to every element of the tensor"
      ],
      "execution_count": 39,
      "outputs": [
        {
          "output_type": "execute_result",
          "data": {
            "text/plain": [
              "tensor([[10.2209,  9.3751,  8.8261,  9.4865],\n",
              "        [10.4791, 10.4981,  9.0741,  9.4791],\n",
              "        [ 8.7655,  9.7049, 10.2527,  9.2699]])"
            ]
          },
          "metadata": {
            "tags": []
          },
          "execution_count": 39
        }
      ]
    },
    {
      "cell_type": "code",
      "metadata": {
        "colab": {
          "base_uri": "https://localhost:8080/"
        },
        "id": "y8YzA84LN1-r",
        "outputId": "f23f597b-38b7-4990-cef2-c9162a2e760e"
      },
      "source": [
        "torch.mul(s, 10)"
      ],
      "execution_count": 40,
      "outputs": [
        {
          "output_type": "execute_result",
          "data": {
            "text/plain": [
              "tensor([[  2.2089,  -6.2494, -11.7385,  -5.1345],\n",
              "        [  4.7912,   4.9812,  -9.2589,  -5.2091],\n",
              "        [-12.3445,  -2.9509,   2.5267,  -7.3005]])"
            ]
          },
          "metadata": {
            "tags": []
          },
          "execution_count": 40
        }
      ]
    },
    {
      "cell_type": "code",
      "metadata": {
        "colab": {
          "base_uri": "https://localhost:8080/"
        },
        "id": "9fLJrax9OCrB",
        "outputId": "9cc9a258-f5e1-4ae9-b2e8-0b0c432c568f"
      },
      "source": [
        "intercept = torch.randn(1)\n",
        "\n",
        "x = torch.randn(2,2)\n",
        "\n",
        "beta = 0.75\n",
        "\n",
        "y = torch.add(torch.mul(intercept, x), torch.mul(beta, x))\n",
        "\n",
        "y"
      ],
      "execution_count": 43,
      "outputs": [
        {
          "output_type": "execute_result",
          "data": {
            "text/plain": [
              "tensor([[1.1163, 0.4681],\n",
              "        [0.1042, 0.1658]])"
            ]
          },
          "metadata": {
            "tags": []
          },
          "execution_count": 43
        }
      ]
    },
    {
      "cell_type": "code",
      "metadata": {
        "colab": {
          "base_uri": "https://localhost:8080/"
        },
        "id": "WoaoQ1Z8PRZV",
        "outputId": "7fcd7141-365f-4f50-a883-e7ddea1ef382"
      },
      "source": [
        "torch.manual_seed(23)\n",
        "\n",
        "torch.ceil(torch.randn(5,5)), torch.floor(torch.randn(5,5)) "
      ],
      "execution_count": 44,
      "outputs": [
        {
          "output_type": "execute_result",
          "data": {
            "text/plain": [
              "(tensor([[-0.,  1., -0.,  1.,  1.],\n",
              "         [-0., -0.,  1., -0., -0.],\n",
              "         [-1.,  1., -2.,  1., -0.],\n",
              "         [ 1., -0., -0., -1.,  2.],\n",
              "         [ 1.,  1., -1., -1., -0.]]), tensor([[ 0.,  0., -1.,  0.,  1.],\n",
              "         [-1.,  0., -1.,  0.,  1.],\n",
              "         [-1., -1.,  1., -1., -1.],\n",
              "         [-2.,  0., -2., -1.,  0.],\n",
              "         [-2.,  1.,  0., -2., -2.]]))"
            ]
          },
          "metadata": {
            "tags": []
          },
          "execution_count": 44
        }
      ]
    },
    {
      "cell_type": "code",
      "metadata": {
        "colab": {
          "base_uri": "https://localhost:8080/"
        },
        "id": "_4_zEpMxPyNv",
        "outputId": "62d40daf-4942-4b5e-d034-e426e0c053b4"
      },
      "source": [
        "torch.clamp((torch.randn(5,5)), max=0.5)"
      ],
      "execution_count": 48,
      "outputs": [
        {
          "output_type": "execute_result",
          "data": {
            "text/plain": [
              "tensor([[-0.2853,  0.0851, -0.6661,  0.1910,  0.5000],\n",
              "        [ 0.5000,  0.5000,  0.5000,  0.5000,  0.5000],\n",
              "        [-0.3333, -0.3857,  0.0754,  0.0324,  0.5000],\n",
              "        [-2.1172, -0.3549,  0.5000, -0.8069, -0.8732],\n",
              "        [-0.6171, -0.5606, -2.4425, -1.0211, -0.1561]])"
            ]
          },
          "metadata": {
            "tags": []
          },
          "execution_count": 48
        }
      ]
    },
    {
      "cell_type": "code",
      "metadata": {
        "colab": {
          "base_uri": "https://localhost:8080/"
        },
        "id": "MdmVWPHPRV0W",
        "outputId": "58e48849-eec6-4e30-d8fd-4427daa41ba5"
      },
      "source": [
        "b = torch.exp(torch.rand(2,2))\n",
        "b"
      ],
      "execution_count": 51,
      "outputs": [
        {
          "output_type": "execute_result",
          "data": {
            "text/plain": [
              "tensor([[2.0485, 2.3108],\n",
              "        [1.0590, 1.1192]])"
            ]
          },
          "metadata": {
            "tags": []
          },
          "execution_count": 51
        }
      ]
    },
    {
      "cell_type": "code",
      "metadata": {
        "colab": {
          "base_uri": "https://localhost:8080/"
        },
        "id": "8wy4xu3jRbMu",
        "outputId": "9799836c-5e76-4b45-809d-ee0110931225"
      },
      "source": [
        "torch.frac(b) #gives the fraction part of a tensor"
      ],
      "execution_count": 52,
      "outputs": [
        {
          "output_type": "execute_result",
          "data": {
            "text/plain": [
              "tensor([[0.0485, 0.3108],\n",
              "        [0.0590, 0.1192]])"
            ]
          },
          "metadata": {
            "tags": []
          },
          "execution_count": 52
        }
      ]
    },
    {
      "cell_type": "code",
      "metadata": {
        "colab": {
          "base_uri": "https://localhost:8080/"
        },
        "id": "U1oLG3VRR4T0",
        "outputId": "2511324e-0b4b-4aff-8f41-fbd17c1a8b13"
      },
      "source": [
        "torch.pow(b, 2) # this gives b**2"
      ],
      "execution_count": 53,
      "outputs": [
        {
          "output_type": "execute_result",
          "data": {
            "text/plain": [
              "tensor([[4.1964, 5.3400],\n",
              "        [1.1216, 1.2526]])"
            ]
          },
          "metadata": {
            "tags": []
          },
          "execution_count": 53
        }
      ]
    },
    {
      "cell_type": "code",
      "metadata": {
        "colab": {
          "base_uri": "https://localhost:8080/"
        },
        "id": "8jY4UrsWSd6o",
        "outputId": "72ca1b2f-49ae-4f51-cd62-e0f24688c4f2"
      },
      "source": [
        "torch.log(torch.randn(2,2))"
      ],
      "execution_count": 54,
      "outputs": [
        {
          "output_type": "execute_result",
          "data": {
            "text/plain": [
              "tensor([[-1.9240,     nan],\n",
              "        [    nan, -1.0357]])"
            ]
          },
          "metadata": {
            "tags": []
          },
          "execution_count": 54
        }
      ]
    },
    {
      "cell_type": "code",
      "metadata": {
        "colab": {
          "base_uri": "https://localhost:8080/"
        },
        "id": "dAA_9-AtSory",
        "outputId": "17c75b06-14f7-4e5b-9f67-11c42749a7f3"
      },
      "source": [
        "torch.sigmoid(b)"
      ],
      "execution_count": 55,
      "outputs": [
        {
          "output_type": "execute_result",
          "data": {
            "text/plain": [
              "tensor([[0.8858, 0.9098],\n",
              "        [0.7425, 0.7538]])"
            ]
          },
          "metadata": {
            "tags": []
          },
          "execution_count": 55
        }
      ]
    },
    {
      "cell_type": "code",
      "metadata": {
        "colab": {
          "base_uri": "https://localhost:8080/"
        },
        "id": "pqUF6BK5TH8W",
        "outputId": "c837e266-a527-4626-ea36-443e067c018b"
      },
      "source": [
        "torch.sqrt(torch.randn(3,3))"
      ],
      "execution_count": 56,
      "outputs": [
        {
          "output_type": "execute_result",
          "data": {
            "text/plain": [
              "tensor([[   nan, 0.7885, 0.7013],\n",
              "        [   nan, 0.8788,    nan],\n",
              "        [0.6771,    nan, 0.6832]])"
            ]
          },
          "metadata": {
            "tags": []
          },
          "execution_count": 56
        }
      ]
    },
    {
      "cell_type": "code",
      "metadata": {
        "colab": {
          "base_uri": "https://localhost:8080/"
        },
        "id": "G_9XacVgTbFC",
        "outputId": "f1e7e10a-0557-432d-a92d-5206721712a0"
      },
      "source": [
        "torch.manual_seed(123)\n",
        "torch.randn(3,3) # manual_seed is set to get the same random values from normal distribution"
      ],
      "execution_count": 58,
      "outputs": [
        {
          "output_type": "execute_result",
          "data": {
            "text/plain": [
              "tensor([[-0.1115,  0.1204, -0.3696],\n",
              "        [-0.2404, -1.1969,  0.2093],\n",
              "        [-0.9724, -0.7550,  0.3239]])"
            ]
          },
          "metadata": {
            "tags": []
          },
          "execution_count": 58
        }
      ]
    },
    {
      "cell_type": "code",
      "metadata": {
        "id": "2mqG3V31Zeiz"
      },
      "source": [
        ""
      ],
      "execution_count": null,
      "outputs": []
    }
  ]
}